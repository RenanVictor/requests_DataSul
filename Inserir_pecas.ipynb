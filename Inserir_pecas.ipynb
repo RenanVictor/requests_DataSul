{
 "cells": [
  {
   "cell_type": "code",
   "execution_count": 1,
   "metadata": {},
   "outputs": [],
   "source": [
    "import ordens as op\n",
    "import pandas as pd"
   ]
  },
  {
   "cell_type": "code",
   "execution_count": 12,
   "metadata": {},
   "outputs": [],
   "source": [
    "classe = op.create_df_ordens()"
   ]
  },
  {
   "cell_type": "code",
   "execution_count": 1,
   "metadata": {},
   "outputs": [],
   "source": [
    "pecas = {'ordens' :[532041,532042,532036,532037,532038,532039,532040,531166],\n",
    "    'pedidos': [47517,47517,47511,47513,47518,47518,47521,99999] }"
   ]
  },
  {
   "cell_type": "code",
   "execution_count": 3,
   "metadata": {},
   "outputs": [
    {
     "name": "stdout",
     "output_type": "stream",
     "text": [
      "[47517, 47517, 47511, 47513, 47518, 47518, 47521, 99999]\n"
     ]
    }
   ],
   "source": [
    "print(pecas['pedidos'])"
   ]
  },
  {
   "cell_type": "code",
   "execution_count": 16,
   "metadata": {},
   "outputs": [
    {
     "data": {
      "text/plain": [
       "532041"
      ]
     },
     "execution_count": 16,
     "metadata": {},
     "output_type": "execute_result"
    }
   ],
   "source": [
    "pecas['ordens'][0]"
   ]
  },
  {
   "cell_type": "code",
   "execution_count": 18,
   "metadata": {},
   "outputs": [],
   "source": [
    "frames = []\n",
    "for ordem in pecas['ordens']:\n",
    "    frames.append(classe.retorna_df_por_ordem(ordem))\n"
   ]
  },
  {
   "cell_type": "code",
   "execution_count": 21,
   "metadata": {},
   "outputs": [],
   "source": [
    "dados = pd.concat(frames)"
   ]
  },
  {
   "cell_type": "code",
   "execution_count": null,
   "metadata": {},
   "outputs": [],
   "source": [
    "op.gerar_csv(dados)"
   ]
  },
  {
   "cell_type": "code",
   "execution_count": 10,
   "metadata": {},
   "outputs": [],
   "source": [
    "def converter_ts_datetime(column,dataset):\n",
    "        dataset[column] = dataset[column]/1000\n",
    "        dataset[column] = pd.to_datetime(dataset[column],unit='s')\n",
    "        dataset[column] = pd.to_datetime(dataset[column].dt.strftime('%Y/%m/%d'))\n",
    "        print(dataset[column])"
   ]
  },
  {
   "cell_type": "code",
   "execution_count": 19,
   "metadata": {},
   "outputs": [
    {
     "ename": "OSError",
     "evalue": "[Errno 22] Invalid argument",
     "output_type": "error",
     "traceback": [
      "\u001b[1;31m---------------------------------------------------------------------------\u001b[0m",
      "\u001b[1;31mOSError\u001b[0m                                   Traceback (most recent call last)",
      "\u001b[1;32mc:\\Users\\renan\\Dropbox\\Python\\Projetos_ATA\\requests_DataSul\\Inserir_pecas.ipynb Cell 10\u001b[0m in \u001b[0;36m<cell line: 5>\u001b[1;34m()\u001b[0m\n\u001b[0;32m      <a href='vscode-notebook-cell:/c%3A/Users/renan/Dropbox/Python/Projetos_ATA/requests_DataSul/Inserir_pecas.ipynb#X14sZmlsZQ%3D%3D?line=2'>3</a>\u001b[0m value \u001b[39m=\u001b[39m \u001b[39m33243966000000\u001b[39m\n\u001b[0;32m      <a href='vscode-notebook-cell:/c%3A/Users/renan/Dropbox/Python/Projetos_ATA/requests_DataSul/Inserir_pecas.ipynb#X14sZmlsZQ%3D%3D?line=3'>4</a>\u001b[0m value \u001b[39m=\u001b[39m value\u001b[39m/\u001b[39m \u001b[39m1000\u001b[39m\n\u001b[1;32m----> <a href='vscode-notebook-cell:/c%3A/Users/renan/Dropbox/Python/Projetos_ATA/requests_DataSul/Inserir_pecas.ipynb#X14sZmlsZQ%3D%3D?line=4'>5</a>\u001b[0m dt_object \u001b[39m=\u001b[39m datetime\u001b[39m.\u001b[39;49mfromtimestamp(value)\n\u001b[0;32m      <a href='vscode-notebook-cell:/c%3A/Users/renan/Dropbox/Python/Projetos_ATA/requests_DataSul/Inserir_pecas.ipynb#X14sZmlsZQ%3D%3D?line=5'>6</a>\u001b[0m dt_object\n",
      "\u001b[1;31mOSError\u001b[0m: [Errno 22] Invalid argument"
     ]
    }
   ],
   "source": [
    "from datetime import datetime\n",
    "\n",
    "value = 33243966000000\n",
    "value = value/ 1000\n",
    "dt_object = datetime.fromtimestamp(value)\n",
    "dt_object\n"
   ]
  },
  {
   "cell_type": "code",
   "execution_count": 11,
   "metadata": {},
   "outputs": [
    {
     "data": {
      "text/html": [
       "<div>\n",
       "<style scoped>\n",
       "    .dataframe tbody tr th:only-of-type {\n",
       "        vertical-align: middle;\n",
       "    }\n",
       "\n",
       "    .dataframe tbody tr th {\n",
       "        vertical-align: top;\n",
       "    }\n",
       "\n",
       "    .dataframe thead th {\n",
       "        text-align: right;\n",
       "    }\n",
       "</style>\n",
       "<table border=\"1\" class=\"dataframe\">\n",
       "  <thead>\n",
       "    <tr style=\"text-align: right;\">\n",
       "      <th></th>\n",
       "      <th>Unnamed: 0</th>\n",
       "      <th>Vendedor</th>\n",
       "      <th>Data_emissao</th>\n",
       "      <th>n_pedido</th>\n",
       "      <th>Cliente</th>\n",
       "      <th>data_entrega</th>\n",
       "      <th>situacao</th>\n",
       "      <th>n_ped_cliente</th>\n",
       "    </tr>\n",
       "  </thead>\n",
       "  <tbody>\n",
       "    <tr>\n",
       "      <th>0</th>\n",
       "      <td>0</td>\n",
       "      <td>caio</td>\n",
       "      <td>1678849200000</td>\n",
       "      <td>48141</td>\n",
       "      <td>DANIEL TRATO</td>\n",
       "      <td>1681527600000</td>\n",
       "      <td>Aberto</td>\n",
       "      <td>48141</td>\n",
       "    </tr>\n",
       "    <tr>\n",
       "      <th>1</th>\n",
       "      <td>1</td>\n",
       "      <td>caio</td>\n",
       "      <td>1678762800000</td>\n",
       "      <td>48129</td>\n",
       "      <td>CAMBUHY</td>\n",
       "      <td>1678762800000</td>\n",
       "      <td>Atendido Total</td>\n",
       "      <td>48129</td>\n",
       "    </tr>\n",
       "    <tr>\n",
       "      <th>2</th>\n",
       "      <td>2</td>\n",
       "      <td>caio</td>\n",
       "      <td>1678762800000</td>\n",
       "      <td>48137</td>\n",
       "      <td>GOIASA</td>\n",
       "      <td>1680490800000</td>\n",
       "      <td>Aberto</td>\n",
       "      <td>3200038686</td>\n",
       "    </tr>\n",
       "    <tr>\n",
       "      <th>3</th>\n",
       "      <td>3</td>\n",
       "      <td>caio</td>\n",
       "      <td>1678762800000</td>\n",
       "      <td>48138</td>\n",
       "      <td>ADECO CARMEN</td>\n",
       "      <td>1679540400000</td>\n",
       "      <td>Aberto</td>\n",
       "      <td>357242</td>\n",
       "    </tr>\n",
       "    <tr>\n",
       "      <th>4</th>\n",
       "      <td>4</td>\n",
       "      <td>caio</td>\n",
       "      <td>1678762800000</td>\n",
       "      <td>48122</td>\n",
       "      <td>US VICENTINA</td>\n",
       "      <td>1679022000000</td>\n",
       "      <td>Aberto</td>\n",
       "      <td>CAIQUE 14/03</td>\n",
       "    </tr>\n",
       "  </tbody>\n",
       "</table>\n",
       "</div>"
      ],
      "text/plain": [
       "   Unnamed: 0 Vendedor   Data_emissao  n_pedido       Cliente   data_entrega  \\\n",
       "0           0     caio  1678849200000     48141  DANIEL TRATO  1681527600000   \n",
       "1           1     caio  1678762800000     48129       CAMBUHY  1678762800000   \n",
       "2           2     caio  1678762800000     48137        GOIASA  1680490800000   \n",
       "3           3     caio  1678762800000     48138  ADECO CARMEN  1679540400000   \n",
       "4           4     caio  1678762800000     48122  US VICENTINA  1679022000000   \n",
       "\n",
       "         situacao n_ped_cliente  \n",
       "0          Aberto         48141  \n",
       "1  Atendido Total         48129  \n",
       "2          Aberto    3200038686  \n",
       "3          Aberto        357242  \n",
       "4          Aberto  CAIQUE 14/03  "
      ]
     },
     "execution_count": 11,
     "metadata": {},
     "output_type": "execute_result"
    }
   ],
   "source": [
    "dataset = pd.read_csv('teste.csv', sep=';')\n",
    "dataset.head()"
   ]
  },
  {
   "cell_type": "code",
   "execution_count": 18,
   "metadata": {},
   "outputs": [
    {
     "name": "stdout",
     "output_type": "stream",
     "text": [
      "0 1681527600000 2023-04-15 00:00:00\n",
      "1 1678762800000 2023-03-14 00:00:00\n",
      "2 1680490800000 2023-04-03 00:00:00\n",
      "3 1679540400000 2023-03-23 00:00:00\n",
      "4 1679022000000 2023-03-17 00:00:00\n",
      "5 1683946800000 2023-05-13 00:00:00\n",
      "6 1680231600000 2023-03-31 00:00:00\n",
      "7 1678849200000 2023-03-15 00:00:00\n",
      "8 1679626800000 2023-03-24 00:00:00\n",
      "9 1686711600000 2023-06-14 00:00:00\n",
      "10 1679022000000 2023-03-17 00:00:00\n",
      "11 1678762800000 2023-03-14 00:00:00\n",
      "12 1680490800000 2023-04-03 00:00:00\n",
      "13 1680231600000 2023-03-31 00:00:00\n",
      "14 1679022000000 2023-03-17 00:00:00\n",
      "15 1679886000000 2023-03-27 00:00:00\n",
      "16 1679281200000 2023-03-20 00:00:00\n",
      "17 1678849200000 2023-03-15 00:00:00\n",
      "18 1680145200000 2023-03-30 00:00:00\n",
      "19 1678676400000 2023-03-13 00:00:00\n",
      "20 1682650800000 2023-04-28 00:00:00\n",
      "21 1678849200000 2023-03-15 00:00:00\n",
      "22 1680231600000 2023-03-31 00:00:00\n",
      "23 1679281200000 2023-03-20 00:00:00\n",
      "24 1678935600000 2023-03-16 00:00:00\n",
      "25 1680231600000 2023-03-31 00:00:00\n"
     ]
    },
    {
     "ename": "OSError",
     "evalue": "[Errno 22] Invalid argument",
     "output_type": "error",
     "traceback": [
      "\u001b[1;31m---------------------------------------------------------------------------\u001b[0m",
      "\u001b[1;31mOSError\u001b[0m                                   Traceback (most recent call last)",
      "\u001b[1;32mc:\\Users\\renan\\Dropbox\\Python\\Projetos_ATA\\requests_DataSul\\Inserir_pecas.ipynb Cell 12\u001b[0m in \u001b[0;36m<cell line: 2>\u001b[1;34m()\u001b[0m\n\u001b[0;32m      <a href='vscode-notebook-cell:/c%3A/Users/renan/Dropbox/Python/Projetos_ATA/requests_DataSul/Inserir_pecas.ipynb#X16sZmlsZQ%3D%3D?line=0'>1</a>\u001b[0m i \u001b[39m=\u001b[39m \u001b[39m0\u001b[39m\n\u001b[0;32m      <a href='vscode-notebook-cell:/c%3A/Users/renan/Dropbox/Python/Projetos_ATA/requests_DataSul/Inserir_pecas.ipynb#X16sZmlsZQ%3D%3D?line=1'>2</a>\u001b[0m \u001b[39mfor\u001b[39;00m item \u001b[39min\u001b[39;00m dataset[\u001b[39m'\u001b[39m\u001b[39mdata_entrega\u001b[39m\u001b[39m'\u001b[39m]:\n\u001b[1;32m----> <a href='vscode-notebook-cell:/c%3A/Users/renan/Dropbox/Python/Projetos_ATA/requests_DataSul/Inserir_pecas.ipynb#X16sZmlsZQ%3D%3D?line=2'>3</a>\u001b[0m     dt_object \u001b[39m=\u001b[39m datetime\u001b[39m.\u001b[39;49mfromtimestamp(item\u001b[39m/\u001b[39;49m\u001b[39m1000\u001b[39;49m)\n\u001b[0;32m      <a href='vscode-notebook-cell:/c%3A/Users/renan/Dropbox/Python/Projetos_ATA/requests_DataSul/Inserir_pecas.ipynb#X16sZmlsZQ%3D%3D?line=3'>4</a>\u001b[0m     \u001b[39mprint\u001b[39m(i,item , dt_object)\n\u001b[0;32m      <a href='vscode-notebook-cell:/c%3A/Users/renan/Dropbox/Python/Projetos_ATA/requests_DataSul/Inserir_pecas.ipynb#X16sZmlsZQ%3D%3D?line=4'>5</a>\u001b[0m     i\u001b[39m=\u001b[39mi\u001b[39m+\u001b[39m\u001b[39m1\u001b[39m\n",
      "\u001b[1;31mOSError\u001b[0m: [Errno 22] Invalid argument"
     ]
    }
   ],
   "source": [
    "i = 0\n",
    "for item in dataset['data_entrega']:\n",
    "    dt_object = datetime.fromtimestamp(item/1000)\n",
    "    print(i,item , dt_object)\n",
    "    i=i+1"
   ]
  },
  {
   "cell_type": "code",
   "execution_count": 12,
   "metadata": {},
   "outputs": [
    {
     "name": "stdout",
     "output_type": "stream",
     "text": [
      "<class 'pandas.core.frame.DataFrame'>\n",
      "RangeIndex: 105 entries, 0 to 104\n",
      "Data columns (total 8 columns):\n",
      " #   Column         Non-Null Count  Dtype \n",
      "---  ------         --------------  ----- \n",
      " 0   Unnamed: 0     105 non-null    int64 \n",
      " 1   Vendedor       105 non-null    object\n",
      " 2   Data_emissao   105 non-null    int64 \n",
      " 3   n_pedido       105 non-null    int64 \n",
      " 4   Cliente        105 non-null    object\n",
      " 5   data_entrega   105 non-null    int64 \n",
      " 6   situacao       105 non-null    object\n",
      " 7   n_ped_cliente  105 non-null    object\n",
      "dtypes: int64(4), object(4)\n",
      "memory usage: 6.7+ KB\n"
     ]
    }
   ],
   "source": [
    "dataset.info()"
   ]
  },
  {
   "cell_type": "code",
   "execution_count": 9,
   "metadata": {},
   "outputs": [
    {
     "name": "stdout",
     "output_type": "stream",
     "text": [
      "0     1970-01-01\n",
      "1     1970-01-01\n",
      "2     1970-01-01\n",
      "3     1970-01-01\n",
      "4     1970-01-01\n",
      "         ...    \n",
      "100   1970-01-01\n",
      "101   1970-01-01\n",
      "102   1970-01-01\n",
      "103   1970-01-01\n",
      "104   1970-01-01\n",
      "Name: data_entrega, Length: 105, dtype: datetime64[ns]\n"
     ]
    }
   ],
   "source": [
    "converter_ts_datetime('data_entrega',dataset)"
   ]
  }
 ],
 "metadata": {
  "kernelspec": {
   "display_name": "Python 3",
   "language": "python",
   "name": "python3"
  },
  "language_info": {
   "codemirror_mode": {
    "name": "ipython",
    "version": 3
   },
   "file_extension": ".py",
   "mimetype": "text/x-python",
   "name": "python",
   "nbconvert_exporter": "python",
   "pygments_lexer": "ipython3",
   "version": "3.10.10"
  },
  "orig_nbformat": 4,
  "vscode": {
   "interpreter": {
    "hash": "68bf8246f428fd53840429b3822d3262492083a0b02f455c4a0cbeeeb6c31022"
   }
  }
 },
 "nbformat": 4,
 "nbformat_minor": 2
}
